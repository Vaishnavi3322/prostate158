{
 "cells": [
  {
   "cell_type": "markdown",
   "metadata": {},
   "source": [
    "# Segmentation Example\n",
    "> Train a U-Net for pixelwise segmentation of the prostate"
   ]
  },
  {
   "cell_type": "code",
   "execution_count": null,
   "metadata": {},
   "outputs": [],
   "source": [
    "import monai\n",
    "import ignite\n",
    "\n",
    "from prostate158.utils import load_config\n",
    "from prostate158.train import SegmentationTrainer\n",
    "from prostate158.report import ReportGenerator\n",
    "from prostate158.viewer import ListViewer"
   ]
  },
  {
   "cell_type": "markdown",
   "metadata": {},
   "source": [
    "All parameters needed for training and evaluation are set in `anatomy.yaml` file. "
   ]
  },
  {
   "cell_type": "code",
   "execution_count": null,
   "metadata": {},
   "outputs": [],
   "source": [
    "config = load_config('anatomy.yaml') # change to 'tumor.yaml' for tumor segmentation\n",
    "monai.utils.set_determinism(seed=config.seed)"
   ]
  },
  {
   "cell_type": "markdown",
   "metadata": {},
   "source": [
    "Create supervised trainer for segmentation task"
   ]
  },
  {
   "cell_type": "code",
   "execution_count": null,
   "metadata": {},
   "outputs": [],
   "source": [
    "trainer=SegmentationTrainer(\n",
    "    progress_bar=True, \n",
    "    early_stopping = True, \n",
    "    metrics = [\"MeanDice\", \"HausdorffDistance\", \"SurfaceDistance\"],\n",
    "    save_latest_metrics = True,\n",
    "    config=config\n",
    ")"
   ]
  },
  {
   "cell_type": "raw",
   "metadata": {},
   "source": [
    "%load_ext tensorboard\n",
    "%tensorboard --logdir=$config.log_dir"
   ]
  },
  {
   "cell_type": "markdown",
   "metadata": {},
   "source": [
    "Adding a learning rate scheduler for one-cylce policy. "
   ]
  },
  {
   "cell_type": "code",
   "execution_count": null,
   "metadata": {},
   "outputs": [],
   "source": [
    "trainer.fit_one_cycle()"
   ]
  },
  {
   "cell_type": "markdown",
   "metadata": {},
   "source": [
    "Let's train. This can take several hours. "
   ]
  },
  {
   "cell_type": "code",
   "execution_count": null,
   "metadata": {},
   "outputs": [],
   "source": [
    "trainer.run()"
   ]
  },
  {
   "cell_type": "markdown",
   "metadata": {},
   "source": [
    "Finish the training with final evaluation of the best model. To allow visualization of all outputs, add OutputStore handler first. Otherwise only output form the last epoch will be accessible. "
   ]
  },
  {
   "cell_type": "code",
   "execution_count": null,
   "metadata": {},
   "outputs": [],
   "source": [
    "eos_handler = ignite.handlers.EpochOutputStore()\n",
    "eos_handler.attach(trainer.evaluator, 'output')"
   ]
  },
  {
   "cell_type": "code",
   "execution_count": null,
   "metadata": {},
   "outputs": [],
   "source": [
    "trainer.evaluate(checkpoint='models/<model-name>.pt')"
   ]
  },
  {
   "cell_type": "markdown",
   "metadata": {},
   "source": [
    "Generate a markdown document with segmentation results"
   ]
  },
  {
   "cell_type": "code",
   "execution_count": null,
   "metadata": {},
   "outputs": [],
   "source": [
    "report_generator=ReportGenerator(\n",
    "    config.run_id, \n",
    "    config.out_dir, \n",
    "    config.log_dir\n",
    ")\n",
    "report_generator.generate_report()"
   ]
  },
  {
   "cell_type": "markdown",
   "metadata": {},
   "source": [
    "Have a look at some outputs"
   ]
  },
  {
   "cell_type": "code",
   "execution_count": null,
   "metadata": {},
   "outputs": [],
   "source": [
    "output = trainer.evaluator.state.output\n",
    "keys = ['image', 'label', 'pred']\n",
    "outputs = {k : [o[0][k].detach().cpu().squeeze() for o in output] for k in keys}"
   ]
  },
  {
   "cell_type": "code",
   "execution_count": null,
   "metadata": {},
   "outputs": [],
   "source": [
    "ListViewer(\n",
    "    [o.transpose(0,2).flip(-2) for o in outputs['image'][0:3]] + \n",
    "    [o.argmax(0).transpose(0,2).flip(-2).float() for o in outputs['label'][0:3]] + \n",
    "    [o.argmax(0).transpose(0,2).flip(-2).float() for o in outputs['pred'][0:3]] \n",
    ").show()"
   ]
  }
 ],
 "metadata": {
  "kernelspec": {
   "display_name": "Python 3",
   "language": "python",
   "name": "python3"
  },
  "language_info": {
   "codemirror_mode": {
    "name": "ipython",
    "version": 3
   },
   "file_extension": ".py",
   "mimetype": "text/x-python",
   "name": "python",
   "nbconvert_exporter": "python",
   "pygments_lexer": "ipython3",
   "version": "3.7.4"
  }
 },
 "nbformat": 4,
 "nbformat_minor": 5
}
